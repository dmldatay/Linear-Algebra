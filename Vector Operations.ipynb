{
 "cells": [
  {
   "cell_type": "markdown",
   "metadata": {},
   "source": [
    "<h2> Task 1 </h2>"
   ]
  },
  {
   "cell_type": "code",
   "execution_count": 15,
   "metadata": {},
   "outputs": [],
   "source": [
    "import numpy as np\n",
    "import matplotlib.pyplot as plt\n",
    "import matplotlib\n",
    "import math\n",
    "\n",
    "%matplotlib inline"
   ]
  },
  {
   "cell_type": "code",
   "execution_count": 25,
   "metadata": {},
   "outputs": [
    {
     "name": "stdout",
     "output_type": "stream",
     "text": [
      "The modulus of vector A: 10.099504938362077\n",
      "The modulus of vector B: 21.37755832643195\n",
      "The modulus of vector C: 11.575836902790225\n",
      "The modulus of vector D: 18.0\n",
      "The modulus of vector E: 39.26830783214372\n",
      "The modulus of vector F: 97.45255255764212\n"
     ]
    }
   ],
   "source": [
    "vectA = np.array([4,7,6,1])\n",
    "vectB = np.array([7,2,20,2])\n",
    "vectC = np.array([8,3,5,6])\n",
    "vectD = np.array([12,8,10,4])\n",
    "vectE = np.array([34,3,4,19])\n",
    "vectF = np.array([54,12,74,31])\n",
    "\n",
    "def Sum(vect1):\n",
    "    sum=0\n",
    "    for i in vect1:\n",
    "        sum = sum + i\n",
    "    return(sum)\n",
    "\n",
    "print(\"The modulus of vector A:\",math.sqrt(Sum(vectA**2)))\n",
    "print(\"The modulus of vector B:\",math.sqrt(Sum(vectB**2)))\n",
    "print(\"The modulus of vector C:\",math.sqrt(Sum(vectC**2)))\n",
    "print(\"The modulus of vector D:\",math.sqrt(Sum(vectD**2)))\n",
    "print(\"The modulus of vector E:\",math.sqrt(Sum(vectE**2)))\n",
    "print(\"The modulus of vector F:\",math.sqrt(Sum(vectF**2)))"
   ]
  },
  {
   "cell_type": "code",
   "execution_count": 28,
   "metadata": {},
   "outputs": [
    {
     "name": "stdout",
     "output_type": "stream",
     "text": [
      "The modulus of vector A: 10.099504938362077\n",
      "The modulus of vector B: 21.37755832643195\n",
      "The modulus of vector C: 11.575836902790225\n",
      "The modulus of vector D: 18.0\n",
      "The modulus of vector E: 39.26830783214372\n",
      "The modulus of vector F: 97.45255255764212\n"
     ]
    }
   ],
   "source": [
    "vectA = np.array([4,7,6,1])\n",
    "vectB = np.array([7,2,20,2])\n",
    "vectC = np.array([8,3,5,6])\n",
    "vectD = np.array([12,8,10,4])\n",
    "vectE = np.array([34,3,4,19])\n",
    "vectF = np.array([54,12,74,31])\n",
    "\n",
    "print(\"The modulus of vector A:\",np.linalg.norm(vectA))\n",
    "print(\"The modulus of vector B:\",np.linalg.norm(vectB))\n",
    "print(\"The modulus of vector C:\",np.linalg.norm(vectC))\n",
    "print(\"The modulus of vector D:\",np.linalg.norm(vectD))\n",
    "print(\"The modulus of vector E:\",np.linalg.norm(vectE))\n",
    "print(\"The modulus of vector F:\",np.linalg.norm(vectF))"
   ]
  },
  {
   "cell_type": "markdown",
   "metadata": {},
   "source": [
    "<h2> Task 2 </h2>"
   ]
  },
  {
   "cell_type": "code",
   "execution_count": 36,
   "metadata": {},
   "outputs": [
    {
     "name": "stdout",
     "output_type": "stream",
     "text": [
      "The inner product of vectA and vectB: 524\n",
      "The inner product of vectC and vectD: 2282\n",
      "The inner product of vectE and vectF: 4437\n",
      "The inner product of vectG and vectH: 544\n",
      "The inner product of vectI and vectJ: 2504\n"
     ]
    }
   ],
   "source": [
    "vectA = np.array([4,7,6,1,8])\n",
    "vectB = np.array([7,2,20,2,45])\n",
    "\n",
    "vectC = np.array([8,3,5,6,87])\n",
    "vectD = np.array([12,8,10,4,24])\n",
    "\n",
    "vectE = np.array([34,3,4,19,48])\n",
    "vectF = np.array([54,12,74,31,35])\n",
    "\n",
    "vectG = np.array([75,36,4,9,4])\n",
    "vectH = np.array([5,2,7,1,15])\n",
    "\n",
    "vectI = np.array([4,13,44,12,1])\n",
    "vectJ = np.array([4,1,46,33,55])\n",
    "\n",
    "def list_dot(u, v):\n",
    "    return sum([a*b for (a,b) in zip(u,v)])\n",
    "\n",
    "print(\"The inner product of vectA and vectB:\",list_dot(vectA,vectB))\n",
    "print(\"The inner product of vectC and vectD:\",list_dot(vectC,vectD))\n",
    "print(\"The inner product of vectE and vectF:\",list_dot(vectE,vectF))\n",
    "print(\"The inner product of vectG and vectH:\",list_dot(vectG,vectH))\n",
    "print(\"The inner product of vectI and vectJ:\",list_dot(vectI,vectJ))"
   ]
  },
  {
   "cell_type": "code",
   "execution_count": 27,
   "metadata": {},
   "outputs": [
    {
     "name": "stdout",
     "output_type": "stream",
     "text": [
      "The inner product of vectA and vectB: 524\n",
      "The inner product of vectC and vectD: 2282\n",
      "The inner product of vectE and vectF: 4437\n",
      "The inner product of vectG and vectH: 544\n",
      "The inner product of vectI and vectJ: 2504\n"
     ]
    }
   ],
   "source": [
    "vectA = np.array([4,7,6,1,8])\n",
    "vectB = np.array([7,2,20,2,45])\n",
    "\n",
    "vectC = np.array([8,3,5,6,87])\n",
    "vectD = np.array([12,8,10,4,24])\n",
    "\n",
    "vectE = np.array([34,3,4,19,48])\n",
    "vectF = np.array([54,12,74,31,35])\n",
    "\n",
    "vectG = np.array([75,36,4,9,4])\n",
    "vectH = np.array([5,2,7,1,15])\n",
    "\n",
    "vectI = np.array([4,13,44,12,1])\n",
    "vectJ = np.array([4,1,46,33,55])\n",
    "\n",
    "print(\"The inner product of vectA and vectB:\",np.inner(vectA,vectB))\n",
    "print(\"The inner product of vectC and vectD:\",np.inner(vectC,vectD))\n",
    "print(\"The inner product of vectE and vectF:\",np.inner(vectE,vectF))\n",
    "print(\"The inner product of vectG and vectH:\",np.inner(vectG,vectH))\n",
    "print(\"The inner product of vectI and vectJ:\",np.inner(vectI,vectJ))"
   ]
  },
  {
   "cell_type": "markdown",
   "metadata": {},
   "source": [
    "<h2> Task 3 </h2>"
   ]
  },
  {
   "cell_type": "markdown",
   "metadata": {},
   "source": [
    "$$A = \\begin{bmatrix}-0.4\\\\0.3\\\\-0.6\\end{bmatrix}, B = \\begin{bmatrix}-0.20.21\\end{bmatrix}, C = \\begin{bmatrix}0.20.1-0.5\\end{bmatrix}$$"
   ]
  },
  {
   "cell_type": "code",
   "execution_count": 37,
   "metadata": {},
   "outputs": [
    {
     "name": "stdout",
     "output_type": "stream",
     "text": [
      "[0.34769805 1.13001866 0.6953961 ]\n"
     ]
    }
   ],
   "source": [
    "A = np.array([-0.4,0.3,-0.6])\n",
    "B = np.array([-0.2,0.2,1])\n",
    "C = np.array([0.2,0.1,-0.5])\n",
    "\n",
    "a = (A@A + B@B + C@C)\n",
    "b = (A*(B+A*B)/C)\n",
    "c = (np.linalg.norm(A+B+C))\n",
    "\n",
    "Ans = a * b * c\n",
    "print(Ans)"
   ]
  },
  {
   "cell_type": "code",
   "execution_count": 29,
   "metadata": {},
   "outputs": [
    {
     "data": {
      "image/png": "[encoded data removed]",
      "text/plain": [
       "<Figure size 432x288 with 1 Axes>"
      ]
     },
     "metadata": {
      "needs_background": "light"
     },
     "output_type": "display_data"
    }
   ],
   "source": [
    "fig = plt.figure()\n",
    "ax = fig.gca(projection='3d')\n",
    "ax.quiver(0, 0, 0, Ans[0], Ans[1], Ans[2], colors='r')\n",
    "ax.set_xlim([0, 1.75])\n",
    "ax.set_ylim([0, 1.75])\n",
    "ax.set_zlim([0, 1.75])\n",
    "plt.show()"
   ]
  }
 ],
 "metadata": {
  "kernelspec": {
   "display_name": "Python 3",
   "language": "python",
   "name": "python3"
  },
  "language_info": {
   "codemirror_mode": {
    "name": "ipython",
    "version": 3
   },
   "file_extension": ".py",
   "mimetype": "text/x-python",
   "name": "python",
   "nbconvert_exporter": "python",
   "pygments_lexer": "ipython3",
   "version": "3.8.3"
  }
 },
 "nbformat": 4,
 "nbformat_minor": 4
}
