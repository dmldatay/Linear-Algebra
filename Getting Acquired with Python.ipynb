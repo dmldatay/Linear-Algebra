{
 "cells": [
  {
   "cell_type": "code",
   "execution_count": 6,
   "metadata": {},
   "outputs": [
    {
     "name": "stdout",
     "output_type": "stream",
     "text": [
      "Charmander is at level 15\n",
      "Pidgey is at level 11\n",
      "Sandshrew is at level 18\n",
      "Rattata is at level 5\n",
      "Abra is at level 14\n"
     ]
    }
   ],
   "source": [
    "party = ['Charmander','Pidgey','Sandshrew','Rattata','Abra']\n",
    "levels = [15,11,18,5,14]\n",
    "print (party[0],'is at level',levels[0])\n",
    "print (party[1],'is at level',levels[1])\n",
    "print (party[2],'is at level',levels[2])\n",
    "print (party[3],'is at level',levels[3])\n",
    "print (party[4],'is at level',levels[4])"
   ]
  },
  {
   "cell_type": "code",
   "execution_count": 9,
   "metadata": {},
   "outputs": [
    {
     "name": "stdout",
     "output_type": "stream",
     "text": [
      "['Unown', 'Magikarp', 'Feebas']\n"
     ]
    }
   ],
   "source": [
    "reserves = [\n",
    "    ('Onix',10),\n",
    "    ('Slowpoke',18),\n",
    "    ('Dialga', 2),\n",
    "    ('Magikarp', 32),\n",
    "    ('Feebas', 22),\n",
    "    ('Swablu', 19),\n",
    "    ('Regigigas', 3),\n",
    "    ('Unown', 50)\n",
    "]\n",
    "reserves.sort(key = lambda a:a[1], reverse=True)\n",
    "backup = reserves[0:3]\n",
    "picks = []\n",
    "for pick in backup:\n",
    "    picks.append(pick[0])\n",
    "print(picks)"
   ]
  },
  {
   "cell_type": "code",
   "execution_count": 3,
   "metadata": {},
   "outputs": [
    {
     "name": "stdout",
     "output_type": "stream",
     "text": [
      "['Charmander', 'Pidgey', 'Sandshrew', 'Rattata', 'Abra', 'Unown']\n",
      "['Charmander', 'Pidgey', 'Sandshrew', 'Rattata', 'Abra', 'Magikarp']\n",
      "['Charmander', 'Pidgey', 'Sandshrew', 'Rattata', 'Abra', 'Feebas']\n"
     ]
    }
   ],
   "source": [
    "def create_party(party, candidates):\n",
    "    all_possible = []\n",
    "    for candidate in picks:\n",
    "        candidates = party[:]\n",
    "        candidates.append(candidate)\n",
    "        all_possible.append(candidates)\n",
    "    return all_possible\n",
    "print(*create_party(party, picks),sep = \"\\n\")"
   ]
  },
  {
   "cell_type": "code",
   "execution_count": null,
   "metadata": {},
   "outputs": [],
   "source": []
  }
 ],
 "metadata": {
  "kernelspec": {
   "display_name": "Python 3",
   "language": "python",
   "name": "python3"
  },
  "language_info": {
   "codemirror_mode": {
    "name": "ipython",
    "version": 3
   },
   "file_extension": ".py",
   "mimetype": "text/x-python",
   "name": "python",
   "nbconvert_exporter": "python",
   "pygments_lexer": "ipython3",
   "version": "3.8.3"
  }
 },
 "nbformat": 4,
 "nbformat_minor": 4
}
