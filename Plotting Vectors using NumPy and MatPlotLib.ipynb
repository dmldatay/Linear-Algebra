{
 "cells": [
  {
   "cell_type": "markdown",
   "metadata": {},
   "source": [
    "<h1> Linear Algebra (CpE210A)</h1>\n",
    "    \n",
    "<h3> Laboratory 2: Plotting Vectors using NumPy and MatPlotLib </h3>\n",
    "    \n",
    "Coded and submitted by:<br>\n",
    "<i>Datay, Danica Mae L.<br>\n",
    "58011</i>"
   ]
  },
  {
   "cell_type": "code",
   "execution_count": 1,
   "metadata": {},
   "outputs": [],
   "source": [
    "import numpy as np\n",
    "import matplotlib.pyplot as plt\n",
    "import matplotlib\n",
    "\n",
    "%matplotlib inline"
   ]
  },
  {
   "cell_type": "code",
   "execution_count": 109,
   "metadata": {},
   "outputs": [],
   "source": [
    "def track_eagle(make_figs=True):\n",
    "    lng = np.random.randint(-10,10, size=3) ## since we don't actually have eagle tracking data we will use\n",
    "    lat = np.random.randint(-10,10, size=3)\n",
    "    \n",
    "    dist1 = np.array((lng[0], lat[0]))\n",
    "    dist2 = np.array((lng[1], lat[1]))\n",
    "    dist3 = np.array((lng[2], lat[2]))\n",
    "    \n",
    "    dist_total = dist1 + dist2 + dist3\n",
    "    dispmnt = np.linalg.norm(dist_total)\n",
    "    alpha = 10**-6\n",
    "    theta = np.arctan(dist_total[1]/(dist_total[0]+alpha))\n",
    "    theta = np.degrees(theta)\n",
    "    \n",
    "    ## Plotting the PH Eagle flight vectors.\n",
    "    plt.figure(figsize=(10,10))\n",
    "    plt.title('Philippine Eagle Flight Plotter')\n",
    "    plt.xlim(-30, 30)\n",
    "    plt.ylim(-30, 30)\n",
    "    plt.xlabel('Latitudinal Distance')\n",
    "    plt.ylabel('Longitudinal Distance')\n",
    "    plt.grid()\n",
    "    n = 2\n",
    "    \n",
    "    ### Self-discovery code block (Refer to guide question 2 for the task)\n",
    "    \n",
    "    plt.quiver(0,0, dist1[0], dist1[1], \n",
    "               angles='xy', scale_units='xy',scale=1, color='red', \n",
    "               label='Trajectory 1: {:.2f}m.'.format(np.linalg.norm(dist1)))\n",
    "    plt.quiver(dist1[0], dist1[1], dist2[0], dist2[1], \n",
    "               angles='xy', scale_units='xy',scale=1, color='blue',\n",
    "              label='Trajectory 2: {:.2f}m.'.format(np.linalg.norm(dist2)))\n",
    "    plt.quiver(np.add(dist1[0],dist2[0]), np.add(dist1[1],dist2[1]),\n",
    "               dist3[0], dist3[1], angles='xy', scale_units='xy',scale=1, color='green',\n",
    "              label='Trajectory 3: {:.2f}m.'.format(np.linalg.norm(dist3)))\n",
    "    plt.quiver(0,0, dist_total[0], dist_total[1], \n",
    "               angles='xy', scale_units='xy',scale=1, color='orange',\n",
    "              label='Displacement: {:.2f}m. @ {:.2f}'.format(dispmnt, theta))\n",
    "    \n",
    "    plt.legend()\n",
    "    \n",
    "    if make_figs:\n",
    "        plt.savefig(f'LinAlg-Lab2-PH Eagle-{int(dispmnt)}@{int(theta)}.png', dpi=300)\n",
    "    \n",
    "    print(dist1)\n",
    "    print(dist2)\n",
    "    print(dist3)\n",
    "    print(dist_total)\n",
    "    print(dispmnt)\n",
    "    print(theta)\n",
    "    \n",
    "    plt.show()"
   ]
  },
  {
   "cell_type": "code",
   "execution_count": 112,
   "metadata": {},
   "outputs": [
    {
     "name": "stdout",
     "output_type": "stream",
     "text": [
      "[1 1]\n",
      "[-1  8]\n",
      "[4 2]\n",
      "[ 4 11]\n",
      "11.704699910719626\n",
      "70.0168888777091\n"
     ]
    },
    {
     "data": {
      "image/png": "[encoded data removed]",
      "text/plain": [
       "<Figure size 720x720 with 1 Axes>"
      ]
     },
     "metadata": {
      "needs_background": "light"
     },
     "output_type": "display_data"
    }
   ],
   "source": [
    "track_eagle(make_figs=True)"
   ]
  },
  {
   "cell_type": "code",
   "execution_count": 107,
   "metadata": {},
   "outputs": [],
   "source": [
    "def eagle_kinematics(spd, time):  ## creating a function. spd for speed\n",
    "    req_shape = 4\n",
    "    velo = np.zeros((req_shape-1,))  ## velo for velocity\n",
    "    acce = np.zeros((req_shape-2,))  ## acce for acceleration\n",
    "    time_vect = np.array([time**3, time**2, time, 1])  ##creating an array for vector time\n",
    "    if spd.shape == (req_shape,):\n",
    "        velo = np.array([3*spd[0],2*spd[1], spd[2]])  ##creating an array for velocity\n",
    "        acce = np.array([2*velo[0],velo[1]])  ##creating an array for acceleration\n",
    "        spd_time = np.sum(np.multiply(spd, time_vect))  ##speed respect to time\n",
    "        velo_time = np.sum(np.multiply(velo, time_vect[1:]))  ##velocity respect to time\n",
    "        acce_time = np.sum(np.multiply(acce, time_vect[2:]))  ##acceleration respect to time\n",
    "        \n",
    "    else:\n",
    "        print(f'Input displacement vector is not valid. Make sure that the vector shape is ({req_shape},)')\n",
    "    \n",
    "    return spd_time, velo_time, acce_time"
   ]
  },
  {
   "cell_type": "code",
   "execution_count": 108,
   "metadata": {},
   "outputs": [
    {
     "data": {
      "text/plain": [
       "(28, 31, 26)"
      ]
     },
     "execution_count": 108,
     "metadata": {},
     "output_type": "execute_result"
    }
   ],
   "source": [
    "spd = np.array([2,1,3,2]) ## giving a value for speed\n",
    "time = 2\n",
    "eagle_kinematics(spd, time)  ##printing the output"
   ]
  }
 ],
 "metadata": {
  "kernelspec": {
   "display_name": "Python 3",
   "language": "python",
   "name": "python3"
  },
  "language_info": {
   "codemirror_mode": {
    "name": "ipython",
    "version": 3
   },
   "file_extension": ".py",
   "mimetype": "text/x-python",
   "name": "python",
   "nbconvert_exporter": "python",
   "pygments_lexer": "ipython3",
   "version": "3.8.3"
  }
 },
 "nbformat": 4,
 "nbformat_minor": 4
}
